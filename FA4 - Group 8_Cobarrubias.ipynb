{
 "cells": [
  {
   "cell_type": "code",
   "execution_count": 1,
   "id": "13a14a08",
   "metadata": {},
   "outputs": [
    {
     "name": "stdout",
     "output_type": "stream",
     "text": [
      "   Normal  SK_right  SK_left  Uniform\n",
      "0      67        31      102     12.1\n",
      "1      70        43       55     12.1\n",
      "2      63        30       70     12.4\n",
      "3      65        30       95     12.1\n",
      "4      68        38       73     12.1\n"
     ]
    }
   ],
   "source": [
    "import pandas as pd\n",
    "import numpy as np\n",
    "\n",
    "df = pd.read_csv(\"/Users/imee/Downloads/Data-1.csv\")\n",
    "print(df.head())\n"
   ]
  },
  {
   "cell_type": "markdown",
   "id": "32aaa57d",
   "metadata": {},
   "source": [
    "### 1"
   ]
  },
  {
   "cell_type": "code",
   "execution_count": 2,
   "id": "cf07e4a2",
   "metadata": {},
   "outputs": [
    {
     "name": "stdout",
     "output_type": "stream",
     "text": [
      "                 Normal    SK_right      SK_left      Uniform\n",
      "1st Moment        65.12       35.48        74.20     12.05600\n",
      "2nd Moment      4248.92     1437.72      5925.40    145.42600\n",
      "3rd Moment    277770.92    68292.44    489458.80   1755.15776\n",
      "4th Moment  18194173.64  3797594.04  41396161.48  21194.59330\n"
     ]
    }
   ],
   "source": [
    "def moment0(series, r):\n",
    "    n = len(series)\n",
    "    return sum([x**r for x in series]) / n\n",
    "\n",
    "moments0 = {}\n",
    "for col in df.columns:\n",
    "    moments0[col] = [moment0(df[col], r) for r in range(1, 5)]\n",
    "\n",
    "moments_df_zero = pd.DataFrame(moments0, index=[\"1st Moment\", \"2nd Moment\", \"3rd Moment\", \"4th Moment\"])\n",
    "print(moments_df_zero)"
   ]
  },
  {
   "cell_type": "markdown",
   "id": "2c6d6099",
   "metadata": {},
   "source": [
    "### 2"
   ]
  },
  {
   "cell_type": "code",
   "execution_count": 3,
   "id": "4b9593b8",
   "metadata": {
    "scrolled": true
   },
   "outputs": [
    {
     "name": "stdout",
     "output_type": "stream",
     "text": [
      "                  Normal      SK_right       SK_left       Uniform\n",
      "1st Moment -4.547474e-15  4.121148e-15 -2.842171e-15 -9.237056e-16\n",
      "2nd Moment  8.305600e+00  1.788896e+02  4.197600e+02  7.886400e-02\n",
      "3rd Moment -4.717440e-01  4.588128e+03 -1.249826e+04  3.352320e-04\n",
      "4th Moment  1.609486e+02  2.106429e+05  9.272897e+05  1.125117e-02\n"
     ]
    }
   ],
   "source": [
    "def moment_mean(series, r):\n",
    "    n = len(series)\n",
    "    return sum([(x-np.mean(series))**r for x in series]) / n\n",
    "\n",
    "moments_mean = {}\n",
    "for col in df.columns:\n",
    "    moments_mean[col] = [moment_mean(df[col], r) for r in range(1, 5)]\n",
    "\n",
    "moments_df_mean = pd.DataFrame(moments_mean, index=[\"1st Moment\", \"2nd Moment\", \"3rd Moment\", \"4th Moment\"])\n",
    "print(moments_df_mean)"
   ]
  },
  {
   "cell_type": "markdown",
   "id": "5153d569",
   "metadata": {},
   "source": [
    "### 3"
   ]
  },
  {
   "cell_type": "code",
   "execution_count": 4,
   "id": "58469c20",
   "metadata": {},
   "outputs": [
    {
     "name": "stdout",
     "output_type": "stream",
     "text": [
      "                   0\n",
      "1st Moment     -9.88\n",
      "2nd Moment    105.92\n",
      "3rd Moment  -1211.08\n",
      "4th Moment  14572.64\n"
     ]
    }
   ],
   "source": [
    "def moment75(series, r):\n",
    "    n = len(series)\n",
    "    return sum([(x-75)**r for x in series]) / n\n",
    "\n",
    "moments75 = [moment75(df[\"Normal\"], r) for r in range(1,5)]\n",
    "moments_df = pd.DataFrame(moments75, index=[\"1st Moment\", \"2nd Moment\", \"3rd Moment\", \"4th Moment\"])\n",
    "print(moments_df)"
   ]
  },
  {
   "cell_type": "markdown",
   "id": "e9511855",
   "metadata": {},
   "source": [
    "### 4"
   ]
  },
  {
   "cell_type": "code",
   "execution_count": 6,
   "id": "d8752e7c",
   "metadata": {},
   "outputs": [
    {
     "name": "stdout",
     "output_type": "stream",
     "text": [
      "            Retrieved Moments from item 2  Calculated Values\n",
      "2nd Moment                       8.305600           8.305600\n",
      "3rd Moment                      -0.471744          -0.471744\n",
      "4th Moment                     160.948626         160.948626\n"
     ]
    }
   ],
   "source": [
    "m1p = moments_df_zero.loc[\"1st Moment\", \"Normal\"]\n",
    "m2p = moments_df_zero.loc[\"2nd Moment\", \"Normal\"]\n",
    "m3p = moments_df_zero.loc[\"3rd Moment\", \"Normal\"]\n",
    "m4p = moments_df_zero.loc[\"4th Moment\", \"Normal\"]\n",
    "\n",
    "m2 = moments_df_mean.loc[\"2nd Moment\", \"Normal\"]\n",
    "m3 = moments_df_mean.loc[\"3rd Moment\", \"Normal\"]\n",
    "m4 = moments_df_mean.loc[\"4th Moment\", \"Normal\"]\n",
    "\n",
    "m2_check = m2p - m1p**2\n",
    "m3_check = m3p - 3*m1p*m2p + 2*m1p**3\n",
    "m4_check = m4p - 4*m1p*m3p + 6*(m1p**2)*m2p - 3*(m1p**4)\n",
    "\n",
    "verify_df = pd.DataFrame({\n",
    "    \"Retrieved Moments from item 2\": [m2, m3, m4],\n",
    "    \"Calculated Values\": [m2_check, m3_check, m4_check]\n",
    "}, index=[\"2nd Moment\", \"3rd Moment\", \"4th Moment\"])\n",
    "\n",
    "print(verify_df)\n"
   ]
  },
  {
   "cell_type": "code",
   "execution_count": null,
   "id": "f81dddc1",
   "metadata": {},
   "outputs": [],
   "source": []
  }
 ],
 "metadata": {
  "kernelspec": {
   "display_name": "Python 3 (ipykernel)",
   "language": "python",
   "name": "python3"
  },
  "language_info": {
   "codemirror_mode": {
    "name": "ipython",
    "version": 3
   },
   "file_extension": ".py",
   "mimetype": "text/x-python",
   "name": "python",
   "nbconvert_exporter": "python",
   "pygments_lexer": "ipython3",
   "version": "3.11.5"
  }
 },
 "nbformat": 4,
 "nbformat_minor": 5
}
