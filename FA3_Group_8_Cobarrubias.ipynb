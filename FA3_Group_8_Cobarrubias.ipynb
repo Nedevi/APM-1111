{
  "nbformat": 4,
  "nbformat_minor": 0,
  "metadata": {
    "colab": {
      "provenance": [],
      "authorship_tag": "ABX9TyM3k/h777dmmzjgvLZOHdRk",
      "include_colab_link": true
    },
    "kernelspec": {
      "name": "python3",
      "display_name": "Python 3"
    },
    "language_info": {
      "name": "python"
    }
  },
  "cells": [
    {
      "cell_type": "markdown",
      "metadata": {
        "id": "view-in-github",
        "colab_type": "text"
      },
      "source": [
        "<a href=\"https://colab.research.google.com/github/Nedevi/APM-1111/blob/main/FA3_Group_8_Cobarrubias.ipynb\" target=\"_parent\"><img src=\"https://colab.research.google.com/assets/colab-badge.svg\" alt=\"Open In Colab\"/></a>"
      ]
    },
    {
      "cell_type": "code",
      "execution_count": 7,
      "metadata": {
        "colab": {
          "base_uri": "https://localhost:8080/"
        },
        "id": "jk3XXyWMKPnZ",
        "outputId": "62587c74-1e55-4dcb-97a6-3d8c2dca5197"
      },
      "outputs": [
        {
          "output_type": "stream",
          "name": "stdout",
          "text": [
            "                          Score\n",
            "Valid                    60.000\n",
            "Mode                     28.000\n",
            "Median                   57.000\n",
            "Mean                     59.167\n",
            "Std. Deviation           22.211\n",
            "Variance                493.328\n",
            "Skewness                  0.163\n",
            "Std. Error of Skewness    0.316\n",
            "Kurtosis                 -1.241\n",
            "Std. Error of Kurtosis    0.632\n",
            "Minimum                  25.000\n",
            "Maximum                  99.000\n",
            "25th percentile          37.750\n",
            "50th percentile          57.000\n",
            "75th percentile          76.000\n",
            "90th percentile          89.200\n",
            "95th percentile          94.100\n"
          ]
        }
      ],
      "source": [
        "import numpy as np\n",
        "import pandas as pd\n",
        "from scipy import stats\n",
        "\n",
        "data = [88,45,53,86,33,86,85,30,89,53,41,96,56,38,62,\n",
        "        71,51,86,68,29,28,47,33,37,25,36,33,94,73,46,\n",
        "        42,34,79,72,88,99,82,62,57,42,28,55,67,62,60,\n",
        "        96,61,57,75,93,34,75,53,32,28,73,51,69,91,35]\n",
        "\n",
        "arr = np.array(data)\n",
        "\n",
        "n = len(arr)\n",
        "mean = np.mean(arr)\n",
        "median = np.median(arr)\n",
        "mode = stats.mode(arr, keepdims=True)[0][0]\n",
        "std = np.std(arr, ddof=1)\n",
        "var = np.var(arr, ddof=1)\n",
        "skew = stats.skew(arr)\n",
        "kurt = stats.kurtosis(arr)\n",
        "sem = stats.sem(arr)\n",
        "se_skew = np.sqrt(6/n)\n",
        "se_kurt = np.sqrt(24/n)\n",
        "\n",
        "p25, p50, p75 = np.percentile(arr, [25,50,75])\n",
        "p90, p95 = np.percentile(arr, [90,95])\n",
        "\n",
        "summary = {\n",
        "    \"Valid\": n,\n",
        "    \"Mode\": mode,\n",
        "    \"Median\": median,\n",
        "    \"Mean\": round(mean,3),\n",
        "    \"Std. Deviation\": round(std,3),\n",
        "    \"Variance\": round(var,3),\n",
        "    \"Skewness\": round(skew,3),\n",
        "    \"Std. Error of Skewness\": round(se_skew,3),\n",
        "    \"Kurtosis\": round(kurt,3),\n",
        "    \"Std. Error of Kurtosis\": round(se_kurt,3),\n",
        "    \"Minimum\": np.min(arr),\n",
        "    \"Maximum\": np.max(arr),\n",
        "    \"25th percentile\": round(p25,3),\n",
        "    \"50th percentile\": round(p50,3),\n",
        "    \"75th percentile\": round(p75,3),\n",
        "    \"90th percentile\": round(p90,3),\n",
        "    \"95th percentile\": round(p95,3),\n",
        "}\n",
        "\n",
        "df = pd.DataFrame(summary, index=[\"Score\"]).T\n",
        "print(df)\n"
      ]
    }
  ]
}